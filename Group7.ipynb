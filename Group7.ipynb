{
 "cells": [
  {
   "cell_type": "code",
   "execution_count": null,
   "metadata": {},
   "outputs": [],
   "source": [
    "import pandas as pd\n",
    "import matplotlib.pyplot as plt"
   ]
  },
  {
   "cell_type": "code",
   "execution_count": null,
   "metadata": {},
   "outputs": [],
   "source": [
    "path = \"./rossmann-store-sales/\"\n",
    "store = pd.read_csv(f\"{path}store.csv\", encoding=\"utf8\")\n",
    "train = pd.read_csv(f\"{path}train.csv\", encoding=\"utf8\")\n",
    "test = pd.read_csv(f\"{path}test.csv\", encoding=\"utf8\")"
   ]
  },
  {
   "cell_type": "code",
   "execution_count": null,
   "metadata": {},
   "outputs": [],
   "source": []
  }
 ],
 "metadata": {
  "kernelspec": {
   "display_name": "venv",
   "language": "python",
   "name": "python3"
  },
  "language_info": {
   "name": "python",
   "version": "3.10.5 (tags/v3.10.5:f377153, Jun  6 2022, 16:14:13) [MSC v.1929 64 bit (AMD64)]"
  },
  "orig_nbformat": 4,
  "vscode": {
   "interpreter": {
    "hash": "7b838527836fbd5782193004f9a38d6f33e54063bc64a68fd1bb5ead58f79555"
   }
  }
 },
 "nbformat": 4,
 "nbformat_minor": 2
}
